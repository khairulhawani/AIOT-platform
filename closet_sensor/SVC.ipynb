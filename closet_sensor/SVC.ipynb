{
 "cells": [
  {
   "cell_type": "code",
   "execution_count": 1,
   "id": "4a14569d-0634-4359-926d-ff6de8e88b1e",
   "metadata": {},
   "outputs": [],
   "source": [
    "import mysql.connector\n",
    "from mysql.connector import Error\n",
    "\n",
    "connection = mysql.connector.connect(\n",
    "  host=\"203.145.218.196\",\n",
    "  user=\"user\",\n",
    "  password=\"user\",\n",
    "  database=\"mydb\"\n",
    ")"
   ]
  },
  {
   "cell_type": "code",
   "execution_count": 36,
   "id": "3d627fe8-d62f-49fb-b76b-f70faf7eaffd",
   "metadata": {},
   "outputs": [
    {
     "data": {
      "text/plain": [
       "63178"
      ]
     },
     "execution_count": 36,
     "metadata": {},
     "output_type": "execute_result"
    }
   ],
   "source": [
    "data = connection.cursor()\n",
    "data.execute(\"SELECT * FROM tb_sensor WHERE sensor_id = '3'\") # and timestamp >= '2022-06-25 02:02:38'\n",
    "myresult = data.fetchall()\n",
    "len(myresult)"
   ]
  },
  {
   "cell_type": "code",
   "execution_count": 10,
   "id": "e4184af7-7892-4958-b462-4d51e1b38644",
   "metadata": {},
   "outputs": [],
   "source": [
    "from datetime import datetime, timedelta\n",
    "timestamp_new_all =[]\n",
    "peaktopeak_value_all =[]\n",
    "label_all=[]\n",
    "#data1=[]#\"'timestamp_new'\",\"min_value\",\"max_value\",\"avg_value\",\"peaktopeak_value\",\"label\"\n",
    "class_0=0 #count class 0\n",
    "class_1=0 #count class 1\n",
    "\n",
    "for x in myresult:\n",
    "    #print(x)\n",
    "    timestamp_new  = x[0]\n",
    "    timestamp_new_all.append(timestamp_new)\n",
    "    peaktopeak_value = x[5]\n",
    "    peaktopeak_value_all.append(peaktopeak_value)\n",
    "    \n",
    "    if (x[5]>=0.00396538 and x[5]<0.316929):\n",
    "        label = '1'\n",
    "        label_all.append(label)\n",
    "        class_1 += 1\n",
    "    else:\n",
    "        label = '0'\n",
    "        label_all.append(label)\n",
    "        class_0 += 1\n",
    "    #print (x)\n",
    "    mycursor = connection.cursor()\n",
    "    sql = \"INSERT INTO tb_closet (timestamp_new, peaktopeak_value, label) VALUES ('\" + str(timestamp_new) + \"', \" + str(peaktopeak_value) + \", \" + str(label) + \")\"\n",
    "    mycursor.execute(sql)\n",
    "    connection.commit()\n"
   ]
  },
  {
   "cell_type": "code",
   "execution_count": 11,
   "id": "621cd27c-fd99-4548-902d-641204fab0f6",
   "metadata": {},
   "outputs": [],
   "source": [
    "from IPython.display import display\n",
    "import pandas as pd\n",
    "\n",
    "dict = {'timestamp' : timestamp_new_all,\n",
    "        'peaktopeak' : peaktopeak_value_all,\n",
    "        'label' : label_all}\n",
    "df = pd.DataFrame(dict)"
   ]
  },
  {
   "cell_type": "code",
   "execution_count": 12,
   "id": "5186be76-acc8-4307-bb5f-0f64382e802a",
   "metadata": {},
   "outputs": [
    {
     "data": {
      "text/html": [
       "<div>\n",
       "<style scoped>\n",
       "    .dataframe tbody tr th:only-of-type {\n",
       "        vertical-align: middle;\n",
       "    }\n",
       "\n",
       "    .dataframe tbody tr th {\n",
       "        vertical-align: top;\n",
       "    }\n",
       "\n",
       "    .dataframe thead th {\n",
       "        text-align: right;\n",
       "    }\n",
       "</style>\n",
       "<table border=\"1\" class=\"dataframe\">\n",
       "  <thead>\n",
       "    <tr style=\"text-align: right;\">\n",
       "      <th></th>\n",
       "      <th>timestamp</th>\n",
       "      <th>peaktopeak</th>\n",
       "      <th>label</th>\n",
       "    </tr>\n",
       "  </thead>\n",
       "  <tbody>\n",
       "    <tr>\n",
       "      <th>0</th>\n",
       "      <td>2022-06-16 09:05:35</td>\n",
       "      <td>0.003050</td>\n",
       "      <td>0</td>\n",
       "    </tr>\n",
       "    <tr>\n",
       "      <th>1</th>\n",
       "      <td>2022-06-16 09:05:39</td>\n",
       "      <td>0.003355</td>\n",
       "      <td>0</td>\n",
       "    </tr>\n",
       "    <tr>\n",
       "      <th>2</th>\n",
       "      <td>2022-06-16 09:05:43</td>\n",
       "      <td>0.002440</td>\n",
       "      <td>0</td>\n",
       "    </tr>\n",
       "    <tr>\n",
       "      <th>3</th>\n",
       "      <td>2022-06-16 09:05:46</td>\n",
       "      <td>0.003355</td>\n",
       "      <td>0</td>\n",
       "    </tr>\n",
       "    <tr>\n",
       "      <th>4</th>\n",
       "      <td>2022-06-16 09:05:50</td>\n",
       "      <td>0.003355</td>\n",
       "      <td>0</td>\n",
       "    </tr>\n",
       "  </tbody>\n",
       "</table>\n",
       "</div>"
      ],
      "text/plain": [
       "            timestamp  peaktopeak label\n",
       "0 2022-06-16 09:05:35    0.003050     0\n",
       "1 2022-06-16 09:05:39    0.003355     0\n",
       "2 2022-06-16 09:05:43    0.002440     0\n",
       "3 2022-06-16 09:05:46    0.003355     0\n",
       "4 2022-06-16 09:05:50    0.003355     0"
      ]
     },
     "execution_count": 12,
     "metadata": {},
     "output_type": "execute_result"
    }
   ],
   "source": [
    "df.head()"
   ]
  },
  {
   "cell_type": "code",
   "execution_count": 13,
   "id": "d48241ff-2c7f-4098-9396-0ee4044b9ded",
   "metadata": {},
   "outputs": [
    {
     "data": {
      "text/plain": [
       "<matplotlib.collections.PathCollection at 0x7f653cdaf9d0>"
      ]
     },
     "execution_count": 13,
     "metadata": {},
     "output_type": "execute_result"
    },
    {
     "data": {
      "image/png": "[encoded data removed]",
      "text/plain": [
       "<Figure size 432x288 with 1 Axes>"
      ]
     },
     "metadata": {
      "needs_background": "light"
     },
     "output_type": "display_data"
    }
   ],
   "source": [
    "import matplotlib.pyplot as plt\n",
    "%matplotlib inline\n",
    "\n",
    "plt.xlabel('timestamp')\n",
    "plt.ylabel('peaktopeak')\n",
    "plt.scatter(df['timestamp'], df['peaktopeak'],color=\"green\",marker='.')\n",
    "#plt.scatter(df['label'], df['label'],color=\"blue\",marker='.')"
   ]
  },
  {
   "cell_type": "code",
   "execution_count": 14,
   "id": "99884e00-ea5c-4c98-ac20-1a8e20bee569",
   "metadata": {},
   "outputs": [],
   "source": [
    "#Train Using Support Vector Machine (SVM)\n",
    "from sklearn.model_selection import train_test_split"
   ]
  },
  {
   "cell_type": "code",
   "execution_count": 15,
   "id": "438cd153-4cda-4522-918f-76e144ec573f",
   "metadata": {},
   "outputs": [],
   "source": [
    "import numpy as np\n",
    "\n",
    "X = np.array(df['peaktopeak']).reshape(-1, 1)\n",
    "y = np.array(df['label'])"
   ]
  },
  {
   "cell_type": "code",
   "execution_count": 18,
   "id": "4ed1ffe4-aa8a-459a-9f23-3c0ac352e1d8",
   "metadata": {},
   "outputs": [
    {
     "name": "stdout",
     "output_type": "stream",
     "text": [
      "Training set has 50430 samples.\n",
      "Testing set has 12608 samples.\n"
     ]
    }
   ],
   "source": [
    "#X_train, X_test = train_test_split(X, test_size=0.2, random_state=42)\n",
    "X_train, X_test, y_train, y_test = train_test_split(X, y, test_size=0.2, random_state=42)\n",
    "\n",
    "# Show the results of the split\n",
    "print (\"Training set has {} samples.\".format(X_train.shape[0]))\n",
    "print (\"Testing set has {} samples.\".format(X_test.shape[0]))\n"
   ]
  },
  {
   "cell_type": "code",
   "execution_count": 19,
   "id": "a6c27592-475b-4c50-943c-1972f681c583",
   "metadata": {},
   "outputs": [],
   "source": [
    "from sklearn.svm import SVC\n",
    "model = SVC()"
   ]
  },
  {
   "cell_type": "code",
   "execution_count": 20,
   "id": "53fffabf-0c43-4ecf-8413-21266b3e0820",
   "metadata": {},
   "outputs": [
    {
     "data": {
      "text/plain": [
       "SVC()"
      ]
     },
     "execution_count": 20,
     "metadata": {},
     "output_type": "execute_result"
    }
   ],
   "source": [
    "model.fit(X_train, y_train)"
   ]
  },
  {
   "cell_type": "code",
   "execution_count": 30,
   "id": "a5cc8fda-ef3c-4190-a01c-4d7566cc5cff",
   "metadata": {},
   "outputs": [
    {
     "name": "stdout",
     "output_type": "stream",
     "text": [
      "Accuracy score for the trained model: 0.9967.\n"
     ]
    }
   ],
   "source": [
    "accuracy_score = model.score(X_test, y_test)\n",
    "print (\"Accuracy score for the trained model: {:.4f}.\".format(accuracy_score))\n",
    "# model.predict([[0.004]])"
   ]
  },
  {
   "cell_type": "code",
   "execution_count": 31,
   "id": "8c171439-7841-416d-a8de-6e785516e84a",
   "metadata": {},
   "outputs": [],
   "source": [
    "y_predict = model.predict(X_test)"
   ]
  },
  {
   "cell_type": "code",
   "execution_count": 32,
   "id": "c2c4a296-e4b5-4b23-91f8-fe471f57c119",
   "metadata": {},
   "outputs": [
    {
     "name": "stdout",
     "output_type": "stream",
     "text": [
      "['0' '0' '0' ... '0' '1' '0']\n"
     ]
    }
   ],
   "source": [
    "print(y_predict)"
   ]
  },
  {
   "cell_type": "code",
   "execution_count": 29,
   "id": "5bf4d58e-4942-4452-8049-7d7245697a3b",
   "metadata": {},
   "outputs": [],
   "source": [
    "# loading library\n",
    "import pickle\n",
    "# create an iterator object with write permission - model_SVC.pkl\n",
    "with open('model_SVC', 'wb') as files:\n",
    "    pickle.dump(model, files)"
   ]
  },
  {
   "cell_type": "code",
   "execution_count": 34,
   "id": "e5fe1cac-fd10-47cc-90d5-5be7f1bc8a44",
   "metadata": {},
   "outputs": [],
   "source": [
    "import pickle\n",
    "\n",
    "# load saved model\n",
    "with open('model_SVC' , 'rb') as f:\n",
    "    SVC = pickle.load(f)"
   ]
  },
  {
   "cell_type": "code",
   "execution_count": 35,
   "id": "667a1a1a-e2c9-49b9-a92e-8eed8750a635",
   "metadata": {},
   "outputs": [
    {
     "data": {
      "text/plain": [
       "array(['0', '0', '0', ..., '0', '1', '0'], dtype=object)"
      ]
     },
     "execution_count": 35,
     "metadata": {},
     "output_type": "execute_result"
    }
   ],
   "source": [
    "# check prediction\n",
    "\n",
    "SVC.predict(X_test) # similar"
   ]
  },
  {
   "cell_type": "code",
   "execution_count": null,
   "id": "2f93957f-9767-46f8-a6a7-913c23141187",
   "metadata": {},
   "outputs": [],
   "source": []
  }
 ],
 "metadata": {
  "kernelspec": {
   "display_name": "Python 3 (ipykernel)",
   "language": "python",
   "name": "python3"
  },
  "language_info": {
   "codemirror_mode": {
    "name": "ipython",
    "version": 3
   },
   "file_extension": ".py",
   "mimetype": "text/x-python",
   "name": "python",
   "nbconvert_exporter": "python",
   "pygments_lexer": "ipython3",
   "version": "3.9.12"
  }
 },
 "nbformat": 4,
 "nbformat_minor": 5
}
